{
 "cells": [
  {
   "cell_type": "code",
   "execution_count": 53,
   "metadata": {},
   "outputs": [
    {
     "name": "stdout",
     "output_type": "stream",
     "text": [
      "Wendsadays high/low: 51°/35°\n",
      "Thursdays high/low: 48°/27°\n",
      "Fridays high/low: 44°/27°\n"
     ]
    }
   ],
   "source": [
    "import requests\n",
    "from bs4 import BeautifulSoup\n",
    "\n",
    "url = \"https://weather.com/weather/tenday/l/67b17b84c87e54a949be2f54b48b1712d207debdd7cf6d4b981399b27751c2c1\"\n",
    "res = requests.get(url)\n",
    "htmlData = res.content\n",
    "parsedData = BeautifulSoup(htmlData, \"html.parser\")\n",
    "days = parsedData.find_all(class_=\"DetailsSummary--temperature--1kVVp\")\n",
    "for i in range(0,1):\n",
    "    print(\"Wendsadays high/low: \" + days[i].text)\n",
    "for i in range(1,2):\n",
    "    print(\"Thursdays high/low: \" + days[i].text)\n",
    "for i in range(2,3):\n",
    "    print(\"Fridays high/low: \" + days[i].text)\n",
    "\n",
    "\n"
   ]
  }
 ],
 "metadata": {
  "kernelspec": {
   "display_name": "Python 3",
   "language": "python",
   "name": "python3"
  },
  "language_info": {
   "codemirror_mode": {
    "name": "ipython",
    "version": 3
   },
   "file_extension": ".py",
   "mimetype": "text/x-python",
   "name": "python",
   "nbconvert_exporter": "python",
   "pygments_lexer": "ipython3",
   "version": "3.10.12"
  }
 },
 "nbformat": 4,
 "nbformat_minor": 2
}
